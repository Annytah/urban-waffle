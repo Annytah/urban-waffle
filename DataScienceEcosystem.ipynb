{
 "cells": [
  {
   "cell_type": "markdown",
   "id": "88336b68-1b9b-42dc-b4c5-210aadda97b1",
   "metadata": {},
   "source": [
    "# Data Science Tools and Ecosytem"
   ]
  },
  {
   "cell_type": "markdown",
   "id": "b99297bb-0fdd-4475-8f50-aaf74f2eb5d6",
   "metadata": {},
   "source": [
    "In this notebook, Data Science Tools and Ecosytems are summarized."
   ]
  },
  {
   "cell_type": "markdown",
   "id": "4649ea8f-4d5f-4a65-871d-c6cc3f45bde0",
   "metadata": {},
   "source": [
    "# Objectives:"
   ]
  },
  {
   "cell_type": "markdown",
   "id": "0c6edd28-739b-4d00-bef5-46428c986961",
   "metadata": {},
   "source": [
    "* Notebook Interface\n",
    "* Working with cells\n",
    "* Markdown for documentation\n",
    "* Code execution\n",
    "* Data execution\n",
    "* Data Visualization\n",
    "\n"
   ]
  },
  {
   "cell_type": "markdown",
   "id": "4c858b3c-a3e7-4c0a-b29e-46860e437ba4",
   "metadata": {},
   "source": [
    "Some of the popular languages that Data Scientists use are:\n",
    "1. Algorithm\n",
    "2. Outliers\n",
    "3. Structured and Unstructured Data\n",
    "4. Big Data\n",
    "5. Model"
   ]
  },
  {
   "cell_type": "markdown",
   "id": "60298e38-1958-4bce-9f43-6f1ab0fabec8",
   "metadata": {},
   "source": [
    "Some of the commonly used Libraries used by Data Scientists includes:\n",
    "1. Pandas\n",
    "2. NumPy\n",
    "3. SciPy\n",
    "4. MatplotLib\n"
   ]
  },
  {
   "cell_type": "markdown",
   "id": "3dc248ad-c171-42fa-afa1-4588e56bac70",
   "metadata": {},
   "source": [
    "# TABLE"
   ]
  },
  {
   "cell_type": "markdown",
   "id": "a9b6e856-5806-4f0f-bcc9-65b129a919d8",
   "metadata": {},
   "source": [
    "|Data Science Tools|\n",
    "|------------------|\n",
    "|Jupyter Notebook|\n",
    "|RStudio|\n",
    "|Apache Zeppelin|"
   ]
  },
  {
   "cell_type": "markdown",
   "id": "4668b5d8-a287-4000-9bc8-0e1005fe4ff5",
   "metadata": {},
   "source": [
    "### Below are a few examples of evaluating arithmetic expressions in Python"
   ]
  },
  {
   "cell_type": "code",
   "execution_count": 3,
   "id": "491b5d7f-d9e9-4d11-a9f2-cffe756a6fb1",
   "metadata": {},
   "outputs": [
    {
     "data": {
      "text/plain": [
       "17"
      ]
     },
     "execution_count": 3,
     "metadata": {},
     "output_type": "execute_result"
    }
   ],
   "source": [
    "#### This is a simple arithmetic expression to multiply then add integers \n",
    "result =(3*4)+5 \n",
    "result"
   ]
  },
  {
   "cell_type": "code",
   "execution_count": 4,
   "id": "ddec5fc3-d1c2-4aba-b828-0f9c1f107221",
   "metadata": {},
   "outputs": [
    {
     "data": {
      "text/plain": [
       "3.3333333333333335"
      ]
     },
     "execution_count": 4,
     "metadata": {},
     "output_type": "execute_result"
    }
   ],
   "source": [
    "#### This will convert 200 minutes to hours by dividing by 60\n",
    "hours =200/60\n",
    "hours"
   ]
  },
  {
   "cell_type": "markdown",
   "id": "0f2d5bf5-b042-4e10-940a-4a1fcad25224",
   "metadata": {},
   "source": [
    "## Author"
   ]
  },
  {
   "cell_type": "markdown",
   "id": "9a549713-3fde-45ad-a581-aee677013414",
   "metadata": {},
   "source": [
    "Anita Jacobs"
   ]
  },
  {
   "cell_type": "code",
   "execution_count": null,
   "id": "9be7e094-20e0-4b5d-a5b5-432426a825e2",
   "metadata": {},
   "outputs": [],
   "source": []
  }
 ],
 "metadata": {
  "kernelspec": {
   "display_name": "anaconda-panel-2023.05-py310",
   "language": "python",
   "name": "conda-env-anaconda-panel-2023.05-py310-py"
  },
  "language_info": {
   "codemirror_mode": {
    "name": "ipython",
    "version": 3
   },
   "file_extension": ".py",
   "mimetype": "text/x-python",
   "name": "python",
   "nbconvert_exporter": "python",
   "pygments_lexer": "ipython3",
   "version": "3.11.5"
  }
 },
 "nbformat": 4,
 "nbformat_minor": 5
}
